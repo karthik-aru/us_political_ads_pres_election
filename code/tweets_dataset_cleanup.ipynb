{
 "cells": [
  {
   "cell_type": "code",
   "execution_count": 3,
   "metadata": {},
   "outputs": [],
   "source": [
    "import pandas as pd\n",
    "import numpy as np\n",
    "import seaborn as sns"
   ]
  },
  {
   "cell_type": "code",
   "execution_count": 2,
   "metadata": {},
   "outputs": [],
   "source": [
    "tweets = pd.read_csv(\"../data/tweets.csv\")"
   ]
  },
  {
   "cell_type": "code",
   "execution_count": 3,
   "metadata": {},
   "outputs": [
    {
     "data": {
      "text/plain": [
       "Index(['id', 'handle', 'text', 'is_retweet', 'original_author', 'time',\n",
       "       'in_reply_to_screen_name', 'in_reply_to_status_id',\n",
       "       'in_reply_to_user_id', 'is_quote_status', 'lang', 'retweet_count',\n",
       "       'favorite_count', 'longitude', 'latitude', 'place_id',\n",
       "       'place_full_name', 'place_name', 'place_type', 'place_country_code',\n",
       "       'place_country', 'place_contained_within', 'place_attributes',\n",
       "       'place_bounding_box', 'source_url', 'truncated', 'entities',\n",
       "       'extended_entities'],\n",
       "      dtype='object')"
      ]
     },
     "execution_count": 3,
     "metadata": {},
     "output_type": "execute_result"
    }
   ],
   "source": [
    "tweets.columns"
   ]
  },
  {
   "cell_type": "code",
   "execution_count": 4,
   "metadata": {},
   "outputs": [
    {
     "data": {
      "text/html": [
       "<div>\n",
       "<style scoped>\n",
       "    .dataframe tbody tr th:only-of-type {\n",
       "        vertical-align: middle;\n",
       "    }\n",
       "\n",
       "    .dataframe tbody tr th {\n",
       "        vertical-align: top;\n",
       "    }\n",
       "\n",
       "    .dataframe thead th {\n",
       "        text-align: right;\n",
       "    }\n",
       "</style>\n",
       "<table border=\"1\" class=\"dataframe\">\n",
       "  <thead>\n",
       "    <tr style=\"text-align: right;\">\n",
       "      <th></th>\n",
       "      <th>id</th>\n",
       "      <th>handle</th>\n",
       "      <th>text</th>\n",
       "      <th>is_retweet</th>\n",
       "      <th>original_author</th>\n",
       "      <th>time</th>\n",
       "      <th>in_reply_to_screen_name</th>\n",
       "      <th>in_reply_to_status_id</th>\n",
       "      <th>in_reply_to_user_id</th>\n",
       "      <th>is_quote_status</th>\n",
       "      <th>...</th>\n",
       "      <th>place_type</th>\n",
       "      <th>place_country_code</th>\n",
       "      <th>place_country</th>\n",
       "      <th>place_contained_within</th>\n",
       "      <th>place_attributes</th>\n",
       "      <th>place_bounding_box</th>\n",
       "      <th>source_url</th>\n",
       "      <th>truncated</th>\n",
       "      <th>entities</th>\n",
       "      <th>extended_entities</th>\n",
       "    </tr>\n",
       "  </thead>\n",
       "  <tbody>\n",
       "    <tr>\n",
       "      <th>0</th>\n",
       "      <td>780925634159796224</td>\n",
       "      <td>HillaryClinton</td>\n",
       "      <td>The question in this election: Who can put the...</td>\n",
       "      <td>False</td>\n",
       "      <td>NaN</td>\n",
       "      <td>2016-09-28T00:22:34</td>\n",
       "      <td>NaN</td>\n",
       "      <td>NaN</td>\n",
       "      <td>NaN</td>\n",
       "      <td>False</td>\n",
       "      <td>...</td>\n",
       "      <td>NaN</td>\n",
       "      <td>NaN</td>\n",
       "      <td>NaN</td>\n",
       "      <td>NaN</td>\n",
       "      <td>NaN</td>\n",
       "      <td>NaN</td>\n",
       "      <td>https://studio.twitter.com</td>\n",
       "      <td>False</td>\n",
       "      <td>{'media': [{'display_url': 'pic.twitter.com/Xr...</td>\n",
       "      <td>{'media': [{'display_url': 'pic.twitter.com/Xr...</td>\n",
       "    </tr>\n",
       "    <tr>\n",
       "      <th>1</th>\n",
       "      <td>780916180899037184</td>\n",
       "      <td>HillaryClinton</td>\n",
       "      <td>Last night, Donald Trump said not paying taxes...</td>\n",
       "      <td>True</td>\n",
       "      <td>timkaine</td>\n",
       "      <td>2016-09-27T23:45:00</td>\n",
       "      <td>NaN</td>\n",
       "      <td>NaN</td>\n",
       "      <td>NaN</td>\n",
       "      <td>False</td>\n",
       "      <td>...</td>\n",
       "      <td>NaN</td>\n",
       "      <td>NaN</td>\n",
       "      <td>NaN</td>\n",
       "      <td>NaN</td>\n",
       "      <td>NaN</td>\n",
       "      <td>NaN</td>\n",
       "      <td>http://twitter.com</td>\n",
       "      <td>False</td>\n",
       "      <td>{'media': [{'display_url': 'pic.twitter.com/t0...</td>\n",
       "      <td>{'media': [{'display_url': 'pic.twitter.com/t0...</td>\n",
       "    </tr>\n",
       "    <tr>\n",
       "      <th>2</th>\n",
       "      <td>780911564857761793</td>\n",
       "      <td>HillaryClinton</td>\n",
       "      <td>Couldn't be more proud of @HillaryClinton. Her...</td>\n",
       "      <td>True</td>\n",
       "      <td>POTUS</td>\n",
       "      <td>2016-09-27T23:26:40</td>\n",
       "      <td>NaN</td>\n",
       "      <td>NaN</td>\n",
       "      <td>NaN</td>\n",
       "      <td>False</td>\n",
       "      <td>...</td>\n",
       "      <td>NaN</td>\n",
       "      <td>NaN</td>\n",
       "      <td>NaN</td>\n",
       "      <td>NaN</td>\n",
       "      <td>NaN</td>\n",
       "      <td>NaN</td>\n",
       "      <td>https://about.twitter.com/products/tweetdeck</td>\n",
       "      <td>False</td>\n",
       "      <td>{'user_mentions': [{'id_str': '1536791610', 'n...</td>\n",
       "      <td>NaN</td>\n",
       "    </tr>\n",
       "    <tr>\n",
       "      <th>3</th>\n",
       "      <td>780907038650068994</td>\n",
       "      <td>HillaryClinton</td>\n",
       "      <td>If we stand together, there's nothing we can't...</td>\n",
       "      <td>False</td>\n",
       "      <td>NaN</td>\n",
       "      <td>2016-09-27T23:08:41</td>\n",
       "      <td>NaN</td>\n",
       "      <td>NaN</td>\n",
       "      <td>NaN</td>\n",
       "      <td>False</td>\n",
       "      <td>...</td>\n",
       "      <td>NaN</td>\n",
       "      <td>NaN</td>\n",
       "      <td>NaN</td>\n",
       "      <td>NaN</td>\n",
       "      <td>NaN</td>\n",
       "      <td>NaN</td>\n",
       "      <td>https://studio.twitter.com</td>\n",
       "      <td>False</td>\n",
       "      <td>{'media': [{'display_url': 'pic.twitter.com/Q3...</td>\n",
       "      <td>{'media': [{'display_url': 'pic.twitter.com/Q3...</td>\n",
       "    </tr>\n",
       "    <tr>\n",
       "      <th>4</th>\n",
       "      <td>780897419462602752</td>\n",
       "      <td>HillaryClinton</td>\n",
       "      <td>Both candidates were asked about how they'd co...</td>\n",
       "      <td>False</td>\n",
       "      <td>NaN</td>\n",
       "      <td>2016-09-27T22:30:27</td>\n",
       "      <td>NaN</td>\n",
       "      <td>NaN</td>\n",
       "      <td>NaN</td>\n",
       "      <td>False</td>\n",
       "      <td>...</td>\n",
       "      <td>NaN</td>\n",
       "      <td>NaN</td>\n",
       "      <td>NaN</td>\n",
       "      <td>NaN</td>\n",
       "      <td>NaN</td>\n",
       "      <td>NaN</td>\n",
       "      <td>https://about.twitter.com/products/tweetdeck</td>\n",
       "      <td>False</td>\n",
       "      <td>{'user_mentions': [], 'symbols': [], 'urls': [...</td>\n",
       "      <td>NaN</td>\n",
       "    </tr>\n",
       "  </tbody>\n",
       "</table>\n",
       "<p>5 rows × 28 columns</p>\n",
       "</div>"
      ],
      "text/plain": [
       "                   id          handle  \\\n",
       "0  780925634159796224  HillaryClinton   \n",
       "1  780916180899037184  HillaryClinton   \n",
       "2  780911564857761793  HillaryClinton   \n",
       "3  780907038650068994  HillaryClinton   \n",
       "4  780897419462602752  HillaryClinton   \n",
       "\n",
       "                                                text  is_retweet  \\\n",
       "0  The question in this election: Who can put the...       False   \n",
       "1  Last night, Donald Trump said not paying taxes...        True   \n",
       "2  Couldn't be more proud of @HillaryClinton. Her...        True   \n",
       "3  If we stand together, there's nothing we can't...       False   \n",
       "4  Both candidates were asked about how they'd co...       False   \n",
       "\n",
       "  original_author                 time in_reply_to_screen_name  \\\n",
       "0             NaN  2016-09-28T00:22:34                     NaN   \n",
       "1        timkaine  2016-09-27T23:45:00                     NaN   \n",
       "2           POTUS  2016-09-27T23:26:40                     NaN   \n",
       "3             NaN  2016-09-27T23:08:41                     NaN   \n",
       "4             NaN  2016-09-27T22:30:27                     NaN   \n",
       "\n",
       "   in_reply_to_status_id  in_reply_to_user_id  is_quote_status  ...  \\\n",
       "0                    NaN                  NaN            False  ...   \n",
       "1                    NaN                  NaN            False  ...   \n",
       "2                    NaN                  NaN            False  ...   \n",
       "3                    NaN                  NaN            False  ...   \n",
       "4                    NaN                  NaN            False  ...   \n",
       "\n",
       "  place_type  place_country_code  place_country  place_contained_within  \\\n",
       "0        NaN                 NaN            NaN                     NaN   \n",
       "1        NaN                 NaN            NaN                     NaN   \n",
       "2        NaN                 NaN            NaN                     NaN   \n",
       "3        NaN                 NaN            NaN                     NaN   \n",
       "4        NaN                 NaN            NaN                     NaN   \n",
       "\n",
       "   place_attributes place_bounding_box  \\\n",
       "0               NaN                NaN   \n",
       "1               NaN                NaN   \n",
       "2               NaN                NaN   \n",
       "3               NaN                NaN   \n",
       "4               NaN                NaN   \n",
       "\n",
       "                                     source_url truncated  \\\n",
       "0                    https://studio.twitter.com     False   \n",
       "1                            http://twitter.com     False   \n",
       "2  https://about.twitter.com/products/tweetdeck     False   \n",
       "3                    https://studio.twitter.com     False   \n",
       "4  https://about.twitter.com/products/tweetdeck     False   \n",
       "\n",
       "                                            entities  \\\n",
       "0  {'media': [{'display_url': 'pic.twitter.com/Xr...   \n",
       "1  {'media': [{'display_url': 'pic.twitter.com/t0...   \n",
       "2  {'user_mentions': [{'id_str': '1536791610', 'n...   \n",
       "3  {'media': [{'display_url': 'pic.twitter.com/Q3...   \n",
       "4  {'user_mentions': [], 'symbols': [], 'urls': [...   \n",
       "\n",
       "                                   extended_entities  \n",
       "0  {'media': [{'display_url': 'pic.twitter.com/Xr...  \n",
       "1  {'media': [{'display_url': 'pic.twitter.com/t0...  \n",
       "2                                                NaN  \n",
       "3  {'media': [{'display_url': 'pic.twitter.com/Q3...  \n",
       "4                                                NaN  \n",
       "\n",
       "[5 rows x 28 columns]"
      ]
     },
     "execution_count": 4,
     "metadata": {},
     "output_type": "execute_result"
    }
   ],
   "source": [
    "tweets.head()"
   ]
  },
  {
   "cell_type": "code",
   "execution_count": 23,
   "metadata": {},
   "outputs": [],
   "source": [
    "tweets.drop(['longitude', 'latitude', 'place_id',\n",
    "       'place_full_name', 'place_name', 'place_type', 'place_country_code',\n",
    "       'place_country', 'place_contained_within', 'place_attributes',\n",
    "       'place_bounding_box', 'source_url', 'truncated', 'entities',\n",
    "       'extended_entities'], axis=1, inplace=True)"
   ]
  },
  {
   "cell_type": "code",
   "execution_count": 24,
   "metadata": {
    "collapsed": true
   },
   "outputs": [
    {
     "data": {
      "text/html": [
       "<div>\n",
       "<style scoped>\n",
       "    .dataframe tbody tr th:only-of-type {\n",
       "        vertical-align: middle;\n",
       "    }\n",
       "\n",
       "    .dataframe tbody tr th {\n",
       "        vertical-align: top;\n",
       "    }\n",
       "\n",
       "    .dataframe thead th {\n",
       "        text-align: right;\n",
       "    }\n",
       "</style>\n",
       "<table border=\"1\" class=\"dataframe\">\n",
       "  <thead>\n",
       "    <tr style=\"text-align: right;\">\n",
       "      <th></th>\n",
       "      <th>id</th>\n",
       "      <th>handle</th>\n",
       "      <th>text</th>\n",
       "      <th>is_retweet</th>\n",
       "      <th>original_author</th>\n",
       "      <th>time</th>\n",
       "      <th>in_reply_to_screen_name</th>\n",
       "      <th>in_reply_to_status_id</th>\n",
       "      <th>in_reply_to_user_id</th>\n",
       "      <th>is_quote_status</th>\n",
       "      <th>lang</th>\n",
       "      <th>retweet_count</th>\n",
       "      <th>favorite_count</th>\n",
       "    </tr>\n",
       "  </thead>\n",
       "  <tbody>\n",
       "    <tr>\n",
       "      <th>0</th>\n",
       "      <td>780925634159796224</td>\n",
       "      <td>HillaryClinton</td>\n",
       "      <td>The question in this election: Who can put the...</td>\n",
       "      <td>False</td>\n",
       "      <td>NaN</td>\n",
       "      <td>2016-09-28T00:22:34</td>\n",
       "      <td>NaN</td>\n",
       "      <td>NaN</td>\n",
       "      <td>NaN</td>\n",
       "      <td>False</td>\n",
       "      <td>en</td>\n",
       "      <td>218</td>\n",
       "      <td>651</td>\n",
       "    </tr>\n",
       "    <tr>\n",
       "      <th>1</th>\n",
       "      <td>780916180899037184</td>\n",
       "      <td>HillaryClinton</td>\n",
       "      <td>Last night, Donald Trump said not paying taxes...</td>\n",
       "      <td>True</td>\n",
       "      <td>timkaine</td>\n",
       "      <td>2016-09-27T23:45:00</td>\n",
       "      <td>NaN</td>\n",
       "      <td>NaN</td>\n",
       "      <td>NaN</td>\n",
       "      <td>False</td>\n",
       "      <td>en</td>\n",
       "      <td>2445</td>\n",
       "      <td>5308</td>\n",
       "    </tr>\n",
       "    <tr>\n",
       "      <th>2</th>\n",
       "      <td>780911564857761793</td>\n",
       "      <td>HillaryClinton</td>\n",
       "      <td>Couldn't be more proud of @HillaryClinton. Her...</td>\n",
       "      <td>True</td>\n",
       "      <td>POTUS</td>\n",
       "      <td>2016-09-27T23:26:40</td>\n",
       "      <td>NaN</td>\n",
       "      <td>NaN</td>\n",
       "      <td>NaN</td>\n",
       "      <td>False</td>\n",
       "      <td>en</td>\n",
       "      <td>7834</td>\n",
       "      <td>27234</td>\n",
       "    </tr>\n",
       "    <tr>\n",
       "      <th>3</th>\n",
       "      <td>780907038650068994</td>\n",
       "      <td>HillaryClinton</td>\n",
       "      <td>If we stand together, there's nothing we can't...</td>\n",
       "      <td>False</td>\n",
       "      <td>NaN</td>\n",
       "      <td>2016-09-27T23:08:41</td>\n",
       "      <td>NaN</td>\n",
       "      <td>NaN</td>\n",
       "      <td>NaN</td>\n",
       "      <td>False</td>\n",
       "      <td>en</td>\n",
       "      <td>916</td>\n",
       "      <td>2542</td>\n",
       "    </tr>\n",
       "    <tr>\n",
       "      <th>4</th>\n",
       "      <td>780897419462602752</td>\n",
       "      <td>HillaryClinton</td>\n",
       "      <td>Both candidates were asked about how they'd co...</td>\n",
       "      <td>False</td>\n",
       "      <td>NaN</td>\n",
       "      <td>2016-09-27T22:30:27</td>\n",
       "      <td>NaN</td>\n",
       "      <td>NaN</td>\n",
       "      <td>NaN</td>\n",
       "      <td>False</td>\n",
       "      <td>en</td>\n",
       "      <td>859</td>\n",
       "      <td>2882</td>\n",
       "    </tr>\n",
       "  </tbody>\n",
       "</table>\n",
       "</div>"
      ],
      "text/plain": [
       "                   id          handle  \\\n",
       "0  780925634159796224  HillaryClinton   \n",
       "1  780916180899037184  HillaryClinton   \n",
       "2  780911564857761793  HillaryClinton   \n",
       "3  780907038650068994  HillaryClinton   \n",
       "4  780897419462602752  HillaryClinton   \n",
       "\n",
       "                                                text  is_retweet  \\\n",
       "0  The question in this election: Who can put the...       False   \n",
       "1  Last night, Donald Trump said not paying taxes...        True   \n",
       "2  Couldn't be more proud of @HillaryClinton. Her...        True   \n",
       "3  If we stand together, there's nothing we can't...       False   \n",
       "4  Both candidates were asked about how they'd co...       False   \n",
       "\n",
       "  original_author                 time in_reply_to_screen_name  \\\n",
       "0             NaN  2016-09-28T00:22:34                     NaN   \n",
       "1        timkaine  2016-09-27T23:45:00                     NaN   \n",
       "2           POTUS  2016-09-27T23:26:40                     NaN   \n",
       "3             NaN  2016-09-27T23:08:41                     NaN   \n",
       "4             NaN  2016-09-27T22:30:27                     NaN   \n",
       "\n",
       "   in_reply_to_status_id  in_reply_to_user_id  is_quote_status lang  \\\n",
       "0                    NaN                  NaN            False   en   \n",
       "1                    NaN                  NaN            False   en   \n",
       "2                    NaN                  NaN            False   en   \n",
       "3                    NaN                  NaN            False   en   \n",
       "4                    NaN                  NaN            False   en   \n",
       "\n",
       "   retweet_count  favorite_count  \n",
       "0            218             651  \n",
       "1           2445            5308  \n",
       "2           7834           27234  \n",
       "3            916            2542  \n",
       "4            859            2882  "
      ]
     },
     "execution_count": 24,
     "metadata": {},
     "output_type": "execute_result"
    }
   ],
   "source": [
    "tweets.head()"
   ]
  },
  {
   "cell_type": "code",
   "execution_count": 8,
   "metadata": {
    "collapsed": true
   },
   "outputs": [
    {
     "name": "stdout",
     "output_type": "stream",
     "text": [
      "<class 'pandas.core.frame.DataFrame'>\n",
      "RangeIndex: 6444 entries, 0 to 6443\n",
      "Data columns (total 28 columns):\n",
      " #   Column                   Non-Null Count  Dtype  \n",
      "---  ------                   --------------  -----  \n",
      " 0   id                       6444 non-null   int64  \n",
      " 1   handle                   6444 non-null   object \n",
      " 2   text                     6444 non-null   object \n",
      " 3   is_retweet               6444 non-null   bool   \n",
      " 4   original_author          722 non-null    object \n",
      " 5   time                     6444 non-null   object \n",
      " 6   in_reply_to_screen_name  208 non-null    object \n",
      " 7   in_reply_to_status_id    202 non-null    float64\n",
      " 8   in_reply_to_user_id      208 non-null    float64\n",
      " 9   is_quote_status          6444 non-null   bool   \n",
      " 10  lang                     6444 non-null   object \n",
      " 11  retweet_count            6444 non-null   int64  \n",
      " 12  favorite_count           6444 non-null   int64  \n",
      " 13  longitude                12 non-null     float64\n",
      " 14  latitude                 12 non-null     float64\n",
      " 15  place_id                 204 non-null    object \n",
      " 16  place_full_name          204 non-null    object \n",
      " 17  place_name               204 non-null    object \n",
      " 18  place_type               204 non-null    object \n",
      " 19  place_country_code       204 non-null    object \n",
      " 20  place_country            204 non-null    object \n",
      " 21  place_contained_within   204 non-null    object \n",
      " 22  place_attributes         204 non-null    object \n",
      " 23  place_bounding_box       204 non-null    object \n",
      " 24  source_url               6444 non-null   object \n",
      " 25  truncated                6444 non-null   bool   \n",
      " 26  entities                 6444 non-null   object \n",
      " 27  extended_entities        1348 non-null   object \n",
      "dtypes: bool(3), float64(4), int64(3), object(18)\n",
      "memory usage: 1.2+ MB\n"
     ]
    }
   ],
   "source": [
    "tweets.info()"
   ]
  },
  {
   "cell_type": "code",
   "execution_count": 15,
   "metadata": {},
   "outputs": [
    {
     "data": {
      "text/plain": [
       "HillaryClinton     3226\n",
       "realDonaldTrump    3218\n",
       "Name: handle, dtype: int64"
      ]
     },
     "execution_count": 15,
     "metadata": {},
     "output_type": "execute_result"
    }
   ],
   "source": [
    "tweets[\"handle\"].value_counts()"
   ]
  },
  {
   "cell_type": "code",
   "execution_count": 32,
   "metadata": {
    "collapsed": true
   },
   "outputs": [
    {
     "data": {
      "text/html": [
       "<div>\n",
       "<style scoped>\n",
       "    .dataframe tbody tr th:only-of-type {\n",
       "        vertical-align: middle;\n",
       "    }\n",
       "\n",
       "    .dataframe tbody tr th {\n",
       "        vertical-align: top;\n",
       "    }\n",
       "\n",
       "    .dataframe thead th {\n",
       "        text-align: right;\n",
       "    }\n",
       "</style>\n",
       "<table border=\"1\" class=\"dataframe\">\n",
       "  <thead>\n",
       "    <tr style=\"text-align: right;\">\n",
       "      <th></th>\n",
       "      <th>id</th>\n",
       "      <th>handle</th>\n",
       "      <th>text</th>\n",
       "      <th>is_retweet</th>\n",
       "      <th>original_author</th>\n",
       "      <th>time</th>\n",
       "      <th>in_reply_to_screen_name</th>\n",
       "      <th>in_reply_to_status_id</th>\n",
       "      <th>in_reply_to_user_id</th>\n",
       "      <th>is_quote_status</th>\n",
       "      <th>lang</th>\n",
       "      <th>retweet_count</th>\n",
       "      <th>favorite_count</th>\n",
       "      <th>month_tweeted</th>\n",
       "    </tr>\n",
       "  </thead>\n",
       "  <tbody>\n",
       "    <tr>\n",
       "      <th>0</th>\n",
       "      <td>780925634159796224</td>\n",
       "      <td>HillaryClinton</td>\n",
       "      <td>The question in this election: Who can put the...</td>\n",
       "      <td>False</td>\n",
       "      <td>NaN</td>\n",
       "      <td>2016-09-28T00:22:34</td>\n",
       "      <td>NaN</td>\n",
       "      <td>NaN</td>\n",
       "      <td>NaN</td>\n",
       "      <td>False</td>\n",
       "      <td>en</td>\n",
       "      <td>218</td>\n",
       "      <td>651</td>\n",
       "      <td>9</td>\n",
       "    </tr>\n",
       "    <tr>\n",
       "      <th>1</th>\n",
       "      <td>780916180899037184</td>\n",
       "      <td>HillaryClinton</td>\n",
       "      <td>Last night, Donald Trump said not paying taxes...</td>\n",
       "      <td>True</td>\n",
       "      <td>timkaine</td>\n",
       "      <td>2016-09-27T23:45:00</td>\n",
       "      <td>NaN</td>\n",
       "      <td>NaN</td>\n",
       "      <td>NaN</td>\n",
       "      <td>False</td>\n",
       "      <td>en</td>\n",
       "      <td>2445</td>\n",
       "      <td>5308</td>\n",
       "      <td>9</td>\n",
       "    </tr>\n",
       "    <tr>\n",
       "      <th>2</th>\n",
       "      <td>780911564857761793</td>\n",
       "      <td>HillaryClinton</td>\n",
       "      <td>Couldn't be more proud of @HillaryClinton. Her...</td>\n",
       "      <td>True</td>\n",
       "      <td>POTUS</td>\n",
       "      <td>2016-09-27T23:26:40</td>\n",
       "      <td>NaN</td>\n",
       "      <td>NaN</td>\n",
       "      <td>NaN</td>\n",
       "      <td>False</td>\n",
       "      <td>en</td>\n",
       "      <td>7834</td>\n",
       "      <td>27234</td>\n",
       "      <td>9</td>\n",
       "    </tr>\n",
       "    <tr>\n",
       "      <th>3</th>\n",
       "      <td>780907038650068994</td>\n",
       "      <td>HillaryClinton</td>\n",
       "      <td>If we stand together, there's nothing we can't...</td>\n",
       "      <td>False</td>\n",
       "      <td>NaN</td>\n",
       "      <td>2016-09-27T23:08:41</td>\n",
       "      <td>NaN</td>\n",
       "      <td>NaN</td>\n",
       "      <td>NaN</td>\n",
       "      <td>False</td>\n",
       "      <td>en</td>\n",
       "      <td>916</td>\n",
       "      <td>2542</td>\n",
       "      <td>9</td>\n",
       "    </tr>\n",
       "    <tr>\n",
       "      <th>4</th>\n",
       "      <td>780897419462602752</td>\n",
       "      <td>HillaryClinton</td>\n",
       "      <td>Both candidates were asked about how they'd co...</td>\n",
       "      <td>False</td>\n",
       "      <td>NaN</td>\n",
       "      <td>2016-09-27T22:30:27</td>\n",
       "      <td>NaN</td>\n",
       "      <td>NaN</td>\n",
       "      <td>NaN</td>\n",
       "      <td>False</td>\n",
       "      <td>en</td>\n",
       "      <td>859</td>\n",
       "      <td>2882</td>\n",
       "      <td>9</td>\n",
       "    </tr>\n",
       "  </tbody>\n",
       "</table>\n",
       "</div>"
      ],
      "text/plain": [
       "                   id          handle  \\\n",
       "0  780925634159796224  HillaryClinton   \n",
       "1  780916180899037184  HillaryClinton   \n",
       "2  780911564857761793  HillaryClinton   \n",
       "3  780907038650068994  HillaryClinton   \n",
       "4  780897419462602752  HillaryClinton   \n",
       "\n",
       "                                                text  is_retweet  \\\n",
       "0  The question in this election: Who can put the...       False   \n",
       "1  Last night, Donald Trump said not paying taxes...        True   \n",
       "2  Couldn't be more proud of @HillaryClinton. Her...        True   \n",
       "3  If we stand together, there's nothing we can't...       False   \n",
       "4  Both candidates were asked about how they'd co...       False   \n",
       "\n",
       "  original_author                 time in_reply_to_screen_name  \\\n",
       "0             NaN  2016-09-28T00:22:34                     NaN   \n",
       "1        timkaine  2016-09-27T23:45:00                     NaN   \n",
       "2           POTUS  2016-09-27T23:26:40                     NaN   \n",
       "3             NaN  2016-09-27T23:08:41                     NaN   \n",
       "4             NaN  2016-09-27T22:30:27                     NaN   \n",
       "\n",
       "   in_reply_to_status_id  in_reply_to_user_id  is_quote_status lang  \\\n",
       "0                    NaN                  NaN            False   en   \n",
       "1                    NaN                  NaN            False   en   \n",
       "2                    NaN                  NaN            False   en   \n",
       "3                    NaN                  NaN            False   en   \n",
       "4                    NaN                  NaN            False   en   \n",
       "\n",
       "   retweet_count  favorite_count  month_tweeted  \n",
       "0            218             651              9  \n",
       "1           2445            5308              9  \n",
       "2           7834           27234              9  \n",
       "3            916            2542              9  \n",
       "4            859            2882              9  "
      ]
     },
     "execution_count": 32,
     "metadata": {},
     "output_type": "execute_result"
    }
   ],
   "source": [
    "tweets.head()"
   ]
  },
  {
   "cell_type": "code",
   "execution_count": 2,
   "metadata": {},
   "outputs": [],
   "source": [
    "tweets_cleaned = pd.read_csv(\"../data/tweets_cleaned.csv\")"
   ]
  },
  {
   "cell_type": "code",
   "execution_count": 8,
   "metadata": {},
   "outputs": [
    {
     "data": {
      "text/plain": [
       "Index(['Unnamed: 0', 'id', 'handle', 'text', 'is_retweet', 'original_author',\n",
       "       'time', 'in_reply_to_screen_name', 'in_reply_to_status_id',\n",
       "       'in_reply_to_user_id', 'is_quote_status', 'lang', 'retweet_count',\n",
       "       'favorite_count', 'candidate_name'],\n",
       "      dtype='object')"
      ]
     },
     "execution_count": 8,
     "metadata": {},
     "output_type": "execute_result"
    }
   ],
   "source": [
    "tweets_cleaned.columns"
   ]
  },
  {
   "cell_type": "code",
   "execution_count": 5,
   "metadata": {},
   "outputs": [
    {
     "data": {
      "text/plain": [
       "array(['HillaryClinton', 'realDonaldTrump'], dtype=object)"
      ]
     },
     "execution_count": 5,
     "metadata": {},
     "output_type": "execute_result"
    }
   ],
   "source": [
    "tweets_cleaned[\"handle\"].unique()"
   ]
  },
  {
   "cell_type": "code",
   "execution_count": 9,
   "metadata": {},
   "outputs": [],
   "source": [
    "tweets_cleaned.loc[tweets_cleaned[\"handle\"] == \"realDonaldTrump\", \"candidate_name\"] = \"Donald Trump\""
   ]
  },
  {
   "cell_type": "code",
   "execution_count": 10,
   "metadata": {},
   "outputs": [
    {
     "data": {
      "text/plain": [
       "array(['Hillary Clinton', 'Donald Trump'], dtype=object)"
      ]
     },
     "execution_count": 10,
     "metadata": {},
     "output_type": "execute_result"
    }
   ],
   "source": [
    "tweets_cleaned[\"candidate_name\"].unique()"
   ]
  },
  {
   "cell_type": "code",
   "execution_count": 12,
   "metadata": {},
   "outputs": [],
   "source": [
    "tweets_cleaned.to_csv(\"../data/tweets_cleaned.csv\")"
   ]
  },
  {
   "cell_type": "code",
   "execution_count": 14,
   "metadata": {},
   "outputs": [],
   "source": [
    "tweets_cleaned_hc = tweets_cleaned[tweets_cleaned[\"handle\"] == \"HillaryClinton\"].copy()"
   ]
  },
  {
   "cell_type": "code",
   "execution_count": 15,
   "metadata": {},
   "outputs": [],
   "source": [
    "tweets_cleaned_dt = tweets_cleaned[tweets_cleaned[\"handle\"] == \"realDonaldTrump\"].copy()"
   ]
  },
  {
   "cell_type": "code",
   "execution_count": 17,
   "metadata": {},
   "outputs": [],
   "source": [
    "tweets_cleaned_3 = pd.concat([tweets_cleaned_hc, tweets_cleaned_dt])"
   ]
  },
  {
   "cell_type": "code",
   "execution_count": 35,
   "metadata": {},
   "outputs": [],
   "source": [
    "tweets_cleaned_3.to_csv(\"../data/tweets_cleaned_3.csv\", index=False)"
   ]
  },
  {
   "cell_type": "code",
   "execution_count": 4,
   "metadata": {},
   "outputs": [],
   "source": [
    "tweets_cleaned_3 = pd.read_csv(\"../data/tweets_cleaned_3.csv\")"
   ]
  },
  {
   "cell_type": "code",
   "execution_count": 5,
   "metadata": {},
   "outputs": [
    {
     "data": {
      "text/plain": [
       "Index(['id', 'handle', 'text', 'is_retweet', 'original_author', 'time',\n",
       "       'in_reply_to_screen_name', 'in_reply_to_status_id',\n",
       "       'in_reply_to_user_id', 'is_quote_status', 'lang', 'retweet_count',\n",
       "       'favorite_count', 'candidate_name', 'log_retweet_cts',\n",
       "       'log_favorite_ct'],\n",
       "      dtype='object')"
      ]
     },
     "execution_count": 5,
     "metadata": {},
     "output_type": "execute_result"
    }
   ],
   "source": [
    "tweets_cleaned_3.columns"
   ]
  },
  {
   "cell_type": "code",
   "execution_count": 6,
   "metadata": {},
   "outputs": [],
   "source": [
    "retweet_ct = np.array(tweets_cleaned_3[\"retweet_count\"])\n",
    "favorite_ct = np.array(tweets_cleaned_3[\"favorite_count\"])"
   ]
  },
  {
   "cell_type": "code",
   "execution_count": 7,
   "metadata": {},
   "outputs": [],
   "source": [
    "tweets_cleaned_3[\"log_retweet_cts\"] = np.log10(retweet_ct)\n",
    "tweets_cleaned_3[\"log_favorite_ct\"] = np.log10(favorite_ct)"
   ]
  },
  {
   "cell_type": "code",
   "execution_count": 8,
   "metadata": {},
   "outputs": [],
   "source": [
    "tweets_handle_origin = tweets_cleaned_3[tweets_cleaned_3[\"original_author\"].isna()].copy()"
   ]
  },
  {
   "cell_type": "code",
   "execution_count": 9,
   "metadata": {},
   "outputs": [
    {
     "data": {
      "text/plain": [
       "6444"
      ]
     },
     "execution_count": 9,
     "metadata": {},
     "output_type": "execute_result"
    }
   ],
   "source": [
    "len(tweets_cleaned_3[\"original_author\"])"
   ]
  },
  {
   "cell_type": "code",
   "execution_count": 10,
   "metadata": {},
   "outputs": [
    {
     "data": {
      "text/plain": [
       "5722"
      ]
     },
     "execution_count": 10,
     "metadata": {},
     "output_type": "execute_result"
    }
   ],
   "source": [
    "len(tweets_handle_origin[\"original_author\"])"
   ]
  },
  {
   "cell_type": "code",
   "execution_count": 11,
   "metadata": {},
   "outputs": [
    {
     "data": {
      "image/png": "[encoded data removed]",
      "text/plain": [
       "<Figure size 483.109x360 with 1 Axes>"
      ]
     },
     "metadata": {
      "needs_background": "light"
     },
     "output_type": "display_data"
    }
   ],
   "source": [
    "retweet_plot = sns.displot(data=tweets_handle_origin, x=\"log_retweet_cts\", hue=\"handle\", kind=\"kde\", fill=True, \n",
    "            palette={\"HillaryClinton\":\"blue\", \"realDonaldTrump\":\"red\"})\n",
    "retweet_plot.savefig(\"../plots/retweet_plot.png\")"
   ]
  },
  {
   "cell_type": "code",
   "execution_count": 12,
   "metadata": {},
   "outputs": [
    {
     "data": {
      "image/png": "[encoded data removed]",
      "text/plain": [
       "<Figure size 483.109x360 with 1 Axes>"
      ]
     },
     "metadata": {
      "needs_background": "light"
     },
     "output_type": "display_data"
    }
   ],
   "source": [
    "fave_plot = sns.displot(data=tweets_handle_origin, x=\"log_favorite_ct\", hue=\"handle\", kind=\"kde\", fill=True, \n",
    "            palette={\"HillaryClinton\":\"blue\", \"realDonaldTrump\":\"red\"})\n",
    "fave_plot.savefig(\"../plots/favorite_plot.png\")"
   ]
  },
  {
   "cell_type": "code",
   "execution_count": 29,
   "metadata": {},
   "outputs": [],
   "source": [
    "from collections import Counter"
   ]
  },
  {
   "cell_type": "code",
   "execution_count": 32,
   "metadata": {
    "collapsed": true
   },
   "outputs": [
    {
     "data": {
      "text/plain": [
       "[('the', 1509),\n",
       " ('to', 1067),\n",
       " ('and', 868),\n",
       " ('in', 831),\n",
       " ('I', 819),\n",
       " ('a', 792),\n",
       " ('is', 737),\n",
       " ('of', 719),\n",
       " ('on', 567),\n",
       " ('for', 549),\n",
       " ('will', 513),\n",
       " ('you', 509),\n",
       " ('be', 462),\n",
       " ('Thank', 447),\n",
       " ('that', 342),\n",
       " ('#Trump2016', 337),\n",
       " ('Hillary', 294),\n",
       " ('@realDonaldTrump', 292),\n",
       " ('with', 290),\n",
       " ('-', 288),\n",
       " ('are', 274),\n",
       " ('at', 271),\n",
       " ('&amp;', 259),\n",
       " ('have', 254),\n",
       " ('The', 236),\n",
       " ('was', 230),\n",
       " ('Trump', 219),\n",
       " ('by', 216),\n",
       " ('#MakeAmericaGreatAgain', 216),\n",
       " ('great', 209),\n",
       " ('has', 197),\n",
       " ('my', 197),\n",
       " ('not', 196),\n",
       " ('all', 188),\n",
       " ('me', 187),\n",
       " ('Crooked', 176),\n",
       " ('from', 172),\n",
       " ('he', 172),\n",
       " ('so', 169),\n",
       " ('it', 168),\n",
       " ('our', 166),\n",
       " ('Cruz', 163),\n",
       " ('people', 149),\n",
       " ('who', 145),\n",
       " ('just', 142),\n",
       " ('out', 141),\n",
       " ('Clinton', 140),\n",
       " ('We', 139),\n",
       " ('this', 134),\n",
       " ('New', 129),\n",
       " ('we', 126),\n",
       " ('as', 126),\n",
       " ('very', 126),\n",
       " ('am', 124),\n",
       " ('you!', 119),\n",
       " ('her', 118),\n",
       " ('about', 117),\n",
       " ('his', 116),\n",
       " ('Great', 115),\n",
       " ('AMERICA', 114),\n",
       " ('they', 112),\n",
       " ('like', 109),\n",
       " ('Ted', 108),\n",
       " ('GREAT', 106),\n",
       " ('your', 105),\n",
       " ('MAKE', 105),\n",
       " ('would', 105),\n",
       " ('get', 105),\n",
       " ('she', 101),\n",
       " ('no', 100),\n",
       " ('AGAIN!', 97),\n",
       " ('Will', 93),\n",
       " ('but', 90),\n",
       " ('more', 90),\n",
       " ('Join', 88),\n",
       " ('many', 85),\n",
       " ('last', 82),\n",
       " ('only', 82),\n",
       " ('big', 82),\n",
       " ('do', 82),\n",
       " ('can', 81),\n",
       " ('been', 80),\n",
       " ('A', 80),\n",
       " ('He', 79),\n",
       " ('Just', 79),\n",
       " ('one', 79),\n",
       " ('now', 77),\n",
       " ('never', 77),\n",
       " ('said', 75),\n",
       " ('had', 74),\n",
       " ('going', 73),\n",
       " ('Enjoy!', 72),\n",
       " ('up', 69),\n",
       " ('than', 68),\n",
       " ('an', 68),\n",
       " ('bad', 67),\n",
       " ('or', 66),\n",
       " ('It', 65),\n",
       " ('should', 65),\n",
       " ('want', 65)]"
      ]
     },
     "execution_count": 32,
     "metadata": {},
     "output_type": "execute_result"
    }
   ],
   "source": [
    "Counter(\" \".join(tweets_cleaned_3[tweets_cleaned_3[\"handle\"] == \"realDonaldTrump\"][\"text\"]).split()).most_common(100)"
   ]
  },
  {
   "cell_type": "code",
   "execution_count": 33,
   "metadata": {},
   "outputs": [
    {
     "data": {
      "text/plain": [
       "[('to', 1703),\n",
       " ('the', 1621),\n",
       " ('a', 1017),\n",
       " ('and', 915),\n",
       " ('of', 866),\n",
       " ('in', 713),\n",
       " ('for', 687),\n",
       " ('is', 618),\n",
       " ('Trump', 598),\n",
       " ('on', 501),\n",
       " ('Donald', 369),\n",
       " ('that', 360),\n",
       " ('our', 360),\n",
       " ('we', 345),\n",
       " ('you', 344),\n",
       " ('be', 318),\n",
       " ('—Hillary', 301),\n",
       " ('Hillary', 281),\n",
       " ('with', 280),\n",
       " ('We', 263),\n",
       " ('not', 254),\n",
       " ('have', 245),\n",
       " ('his', 243),\n",
       " ('who', 237),\n",
       " ('are', 237),\n",
       " ('this', 231),\n",
       " ('about', 220),\n",
       " ('can', 197),\n",
       " ('has', 195),\n",
       " ('as', 191),\n",
       " ('I', 190),\n",
       " ('it', 189),\n",
       " ('he', 173),\n",
       " ('your', 169),\n",
       " ('will', 167),\n",
       " ('make', 166),\n",
       " ('from', 161),\n",
       " ('all', 158),\n",
       " ('what', 151),\n",
       " ('just', 149),\n",
       " ('at', 146),\n",
       " ('people', 146),\n",
       " (\"Trump's\", 141),\n",
       " ('more', 139),\n",
       " ('The', 134),\n",
       " ('one', 132),\n",
       " ('should', 128),\n",
       " ('do', 126),\n",
       " ('by', 125),\n",
       " ('their', 124),\n",
       " ('would', 119),\n",
       " ('than', 118),\n",
       " ('her', 118),\n",
       " ('need', 118),\n",
       " ('\"I', 110),\n",
       " ('was', 109),\n",
       " ('an', 108),\n",
       " ('-H', 105),\n",
       " ('us', 103),\n",
       " ('America', 99),\n",
       " ('like', 98),\n",
       " ('out', 97),\n",
       " ('president', 96),\n",
       " ('if', 93),\n",
       " ('no', 93),\n",
       " ('families', 92),\n",
       " ('Clinton', 90),\n",
       " ('they', 89),\n",
       " ('American', 88),\n",
       " ('but', 88),\n",
       " ('first', 87),\n",
       " ('&amp;', 87),\n",
       " ('—@POTUS', 87),\n",
       " ('so', 86),\n",
       " ('get', 86),\n",
       " ('This', 85),\n",
       " ('Americans', 84),\n",
       " ('my', 81),\n",
       " ('up', 81),\n",
       " ('going', 81),\n",
       " ('how', 78),\n",
       " ('or', 77),\n",
       " ('know', 76),\n",
       " ('never', 76),\n",
       " ('de', 74),\n",
       " ('every', 74),\n",
       " ('women', 74),\n",
       " ('only', 72),\n",
       " ('time', 72),\n",
       " ('tax', 71),\n",
       " ('got', 70),\n",
       " ('when', 69),\n",
       " ('country', 67),\n",
       " (\"It's\", 66),\n",
       " ('plan', 65),\n",
       " ('If', 64),\n",
       " ('she', 63),\n",
       " (\"can't\", 62),\n",
       " ('want', 62),\n",
       " ('been', 61)]"
      ]
     },
     "execution_count": 33,
     "metadata": {},
     "output_type": "execute_result"
    }
   ],
   "source": [
    "Counter(\" \".join(tweets_cleaned_3[tweets_cleaned_3[\"handle\"] == \"HillaryClinton\"][\"text\"]).split()).most_common(100)"
   ]
  },
  {
   "cell_type": "code",
   "execution_count": null,
   "metadata": {},
   "outputs": [],
   "source": []
  }
 ],
 "metadata": {
  "kernelspec": {
   "display_name": "Python 3",
   "language": "python",
   "name": "python3"
  },
  "language_info": {
   "codemirror_mode": {
    "name": "ipython",
    "version": 3
   },
   "file_extension": ".py",
   "mimetype": "text/x-python",
   "name": "python",
   "nbconvert_exporter": "python",
   "pygments_lexer": "ipython3",
   "version": "3.7.6"
  }
 },
 "nbformat": 4,
 "nbformat_minor": 4
}
